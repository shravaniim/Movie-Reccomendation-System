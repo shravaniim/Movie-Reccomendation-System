{
 "cells": [
  {
   "cell_type": "code",
   "execution_count": 3,
   "id": "9e2c22c6",
   "metadata": {},
   "outputs": [
    {
     "name": "stdout",
     "output_type": "stream",
     "text": [
      "    index                                               name     Score\n",
      "0       6                                     Sabrina (1995)  1.000000\n",
      "1      23                                      Powder (1995)  0.567625\n",
      "2      13                                       Nixon (1995)  0.548868\n",
      "3      19                                 Money Train (1995)  0.534361\n",
      "4      24                           Leaving Las Vegas (1995)  0.421340\n",
      "5       1                                     Jumanji (1995)  0.320244\n",
      "6      42               How to Make an American Quilt (1995)  0.314217\n",
      "7      15                                      Casino (1995)  0.267914\n",
      "8      29  Shanghai Triad (Yao a yao yao dao waipo qiao) ...  0.266933\n",
      "9      22                                   Assassins (1995)  0.250039\n",
      "10     35                                    Clueless (1995)  0.210673\n"
     ]
    },
    {
     "data": {
      "text/plain": [
       "6"
      ]
     },
     "execution_count": 3,
     "metadata": {},
     "output_type": "execute_result"
    }
   ],
   "source": [
    "import pandas as pd\n",
    "\n",
    "# import Dataset \n",
    "cd = pd.read_csv('C:\\\\Users\\\\SHRAVANI\\\\Downloads\\\\Entertainment.csv', encoding = 'utf8')\n",
    "cd.shape # shape\n",
    "cd.columns\n",
    "cd.Category # genre columns\n",
    "\n",
    "from sklearn.feature_extraction.text import TfidfVectorizer #term frequencey- inverse document frequncy is a numerical statistic that is intended to reflect how important a word is to document in a collecion or corpus\n",
    "\n",
    "# Creating a Tfidf Vectorizer to remove all stop words\n",
    "tfidf = TfidfVectorizer(stop_words = \"english\")    # taking stop words from tfid vectorizer \n",
    "\n",
    "# replacing the NaN values in overview column with empty string\n",
    "cd[\"Category\"].isnull().sum() \n",
    "cd[\"Category\"] = cd[\"Category\"].fillna(\" \")\n",
    "\n",
    "# Preparing the Tfidf matrix by fitting and transforming\n",
    "tfidf_matrix = tfidf.fit_transform(cd.Category)   #Transform a count matrix to a normalized tf or tf-idf representation\n",
    "tfidf_matrix.shape #12294, 46\n",
    "\n",
    "# with the above matrix we need to find the similarity score\n",
    "# There are several metrics for this such as the euclidean, \n",
    "# the Pearson and the cosine similarity scores\n",
    "\n",
    "# For now we will be using cosine similarity matrix\n",
    "# A numeric quantity to represent the similarity between 2 movies \n",
    "# Cosine similarity - metric is independent of magnitude and easy to calculate \n",
    "\n",
    "# cosine(x,y)= (x.y⊺)/(||x||.||y||)\n",
    "\n",
    "from sklearn.metrics.pairwise import linear_kernel\n",
    "\n",
    "# Computing the cosine similarity on Tfidf matrix\n",
    "cosine_sim_matrix = linear_kernel(tfidf_matrix, tfidf_matrix)\n",
    "\n",
    "# creating a mapping of anime name to index number \n",
    "cd_index = pd.Series(cd.index, index = cd['name']).drop_duplicates()\n",
    "\n",
    "cd_id = cd_index[\"Toy Story (1995)\"]\n",
    "cd_id\n",
    "\n",
    "def get_recommendations(name, topN):    \n",
    "    # topN = 10\n",
    "    # Getting the movie index using its title \n",
    "    cd_id = cd_index[name]\n",
    "    \n",
    "    # Getting the pair wise similarity score for all the anime's with that \n",
    "    # anime\n",
    "    cosine_scores = list(enumerate(cosine_sim_matrix[cd_id]))\n",
    "    \n",
    "    # Sorting the cosine_similarity scores based on scores \n",
    "    cosine_scores = sorted(cosine_scores, key=lambda x:x[1], reverse = True)\n",
    "    \n",
    "    # Get the scores of top N most similar movies \n",
    "    cosine_scores_N = cosine_scores[0: topN+1]\n",
    "    \n",
    "    # Getting the movie index \n",
    "    anime_idx  =  [i[0] for i in cosine_scores_N]\n",
    "    anime_scores =  [i[1] for i in cosine_scores_N]\n",
    "    \n",
    "    # Similar movies and scores\n",
    "    cd_similar_show = pd.DataFrame(columns=[\"name\", \"Score\"])\n",
    "    cd_similar_show[\"name\"] = cd.loc[anime_idx, \"name\"]\n",
    "    cd_similar_show[\"Score\"] = anime_scores\n",
    "    cd_similar_show.reset_index(inplace = True)  \n",
    "    # anime_similar_show.drop([\"index\"], axis=1, inplace=True)\n",
    "    print (cd_similar_show)\n",
    "    # return (anime_similar_show)\n",
    "\n",
    "    \n",
    "# Enter your anime and number of anime's to be recommended \n",
    "get_recommendations(\"Sabrina (1995)\", topN = 10)\n",
    "cd_index[\"Sabrina (1995)\"]\n"
   ]
  },
  {
   "cell_type": "code",
   "execution_count": null,
   "id": "35e07e0f",
   "metadata": {},
   "outputs": [],
   "source": []
  }
 ],
 "metadata": {
  "kernelspec": {
   "display_name": "Python 3 (ipykernel)",
   "language": "python",
   "name": "python3"
  },
  "language_info": {
   "codemirror_mode": {
    "name": "ipython",
    "version": 3
   },
   "file_extension": ".py",
   "mimetype": "text/x-python",
   "name": "python",
   "nbconvert_exporter": "python",
   "pygments_lexer": "ipython3",
   "version": "3.9.13"
  }
 },
 "nbformat": 4,
 "nbformat_minor": 5
}
